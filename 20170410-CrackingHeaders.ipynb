{
 "cells": [
  {
   "cell_type": "code",
   "execution_count": 48,
   "metadata": {
    "collapsed": false
   },
   "outputs": [],
   "source": [
    "from uProbeTools import *\n",
    "\n",
    "# Constants\n",
    "RAWDATA_LINE_IN_FRAME = 128\n",
    "RAWDATA_SAMPLE_IN_LINE = 512\n",
    "# Dataset for this exercise\n",
    "DataSetName = \"20170404-potatoes\"\n",
    "FrameRate = 12"
   ]
  },
  {
   "cell_type": "markdown",
   "metadata": {},
   "source": [
    "## Let's load the images and video"
   ]
  },
  {
   "cell_type": "code",
   "execution_count": 56,
   "metadata": {
    "collapsed": false
   },
   "outputs": [],
   "source": [
    "Patates = CreateUSData(DataSetName,RAWDATA_LINE_IN_FRAME,RAWDATA_SAMPLE_IN_LINE+(525-512))\n",
    "#print(\"Images: \"+str(Patates[0]))\n",
    "#print(len(Patates[1][1][0]))"
   ]
  },
  {
   "cell_type": "code",
   "execution_count": 57,
   "metadata": {
    "collapsed": false
   },
   "outputs": [
    {
     "name": "stdout",
     "output_type": "stream",
     "text": [
      "Video created at /video/20170404-potatoes.avi\n"
     ]
    }
   ],
   "source": [
    "if(CreateUSVideo(Patates[1],DataSetName,Patates[0],FrameRate)):\n",
    "    print(\"Video created at /video/\"+DataSetName+\".avi\")"
   ]
  },
  {
   "cell_type": "markdown",
   "metadata": {
    "collapsed": true
   },
   "source": [
    "## Let's now explore the data\n",
    "\n",
    "Let's play with headers / hidden data\n",
    "\n",
    "There are 525 points per line, for 512 long data. That's 13 points of data hiding some information!\n"
   ]
  },
  {
   "cell_type": "code",
   "execution_count": 51,
   "metadata": {
    "collapsed": false
   },
   "outputs": [],
   "source": [
    "# Arbitrary image and offset between two images\n",
    "ImageRef = 2\n",
    "RefOffset = 3\n",
    "image = np.array(np.transpose(Patates[1][ImageRef])).astype(int)\n",
    "image2 = np.array(np.transpose(Patates[1][ImageRef+RefOffset])).astype(int)"
   ]
  },
  {
   "cell_type": "code",
   "execution_count": 52,
   "metadata": {
    "collapsed": false
   },
   "outputs": [
    {
     "name": "stdout",
     "output_type": "stream",
     "text": [
      "[[  0   0   0   0   0]\n",
      " [170 170 170 170 170]\n",
      " [325 325 325 325 325]\n",
      " [495 495 495 495 495]\n",
      " [  0   0   0   0   0]\n",
      " [170 170 170 170 170]\n",
      " [325 325 325 325 325]\n",
      " [495 495 495 495 495]]\n"
     ]
    }
   ],
   "source": [
    "# The 8 first lines show 2x a pattern to mark the beginning of a line\n",
    "print(image2[0:8,0:5])"
   ]
  },
  {
   "cell_type": "code",
   "execution_count": 53,
   "metadata": {
    "collapsed": false
   },
   "outputs": [
    {
     "name": "stdout",
     "output_type": "stream",
     "text": [
      "[3 3 3 3 3 3 3 3 3 3 3 3 3 3 3 3 3 3 3 3 3 3 3 3 3 3 3 3 3 3 3 3 3 3 3 3 3\n",
      " 3 3 3 3 3 3 3 3 3 3 3 3 3 3 3 3 3 3 3 3 3 3 3 3 3 3 3 3 3 3 3 3 3 3 3 3 3\n",
      " 3 3 3 3 3 3 3 3 3 3 3 3 3 3 3 3 3 3 3 3 3 3 3 3 3 3 3 3 3 3 3 3 3 3 3 3 3\n",
      " 3 3 3 3 3 3 3 3 3 3 3 3 3 3 3 3 3]\n",
      "Offset: 3\n"
     ]
    }
   ],
   "source": [
    "# Line 8 seems to encode the number of the image\n",
    "ImageCounterPos = 9\n",
    "print(image2[ImageCounterPos]-image[ImageCounterPos])\n",
    "print(\"Offset: \"+str(RefOffset))"
   ]
  },
  {
   "cell_type": "code",
   "execution_count": 54,
   "metadata": {
    "collapsed": false
   },
   "outputs": [
    {
     "name": "stdout",
     "output_type": "stream",
     "text": [
      "[  0   1   2   3   4   5   6   7   8   9  10  11  12  13  14  15  32  33\n",
      "  34  35  36  37  38  39  40  41  42  43  44  45  46  47  64  65  66  67\n",
      "  68  69  70  71  72  73  74  75  76  77  78  79  96  97  98  99 100 101\n",
      " 102 103 104 105 106 107 108 109 110 111 128 129 130 131 132 133 134 135\n",
      " 136 137 138 139 140 141 142 143 160 161 162 163 164 165 166 167 168 169\n",
      " 170 171 172 173 174 175 192 193 194 195 196 197 198 199 200 201 202 203\n",
      " 204 205 206 207 224 225 226 227 228 229 230 231 232 233 234 235 236 237\n",
      " 238 239]\n"
     ]
    }
   ],
   "source": [
    "# and Line 10 the position of the line in the image\n",
    "LineCounterPost = 10\n",
    "print(image2[LineCounterPost])"
   ]
  },
  {
   "cell_type": "code",
   "execution_count": 55,
   "metadata": {
    "collapsed": false
   },
   "outputs": [
    {
     "name": "stdout",
     "output_type": "stream",
     "text": [
      "[[0 0 0 0 0 0 0 0 0 0 0 0 0]\n",
      " [0 0 0 0 0 0 0 0 0 0 0 0 0]]\n"
     ]
    }
   ],
   "source": [
    "#And the end of the line is null\n",
    "print(image2[523:525,0:13])"
   ]
  },
  {
   "cell_type": "markdown",
   "metadata": {},
   "source": [
    "## And that's it for today!\n",
    "\n",
    "We've seen the structure of the images and data hidden in the layers, yeayy!"
   ]
  },
  {
   "cell_type": "code",
   "execution_count": null,
   "metadata": {
    "collapsed": true
   },
   "outputs": [],
   "source": []
  }
 ],
 "metadata": {
  "kernelspec": {
   "display_name": "Python 2",
   "language": "python",
   "name": "python2"
  },
  "language_info": {
   "codemirror_mode": {
    "name": "ipython",
    "version": 2
   },
   "file_extension": ".py",
   "mimetype": "text/x-python",
   "name": "python",
   "nbconvert_exporter": "python",
   "pygments_lexer": "ipython2",
   "version": "2.7.12"
  }
 },
 "nbformat": 4,
 "nbformat_minor": 2
}
