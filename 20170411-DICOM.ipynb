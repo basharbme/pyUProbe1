{
 "cells": [
  {
   "cell_type": "code",
   "execution_count": 16,
   "metadata": {
    "collapsed": false
   },
   "outputs": [],
   "source": [
    "from uProbeTools import *\n",
    "# DICOM\n",
    "import dicom, dicom.UID\n",
    "from dicom.dataset import Dataset, FileDataset\n",
    "import numpy as np\n",
    "import datetime, time\n",
    "# Constants\n",
    "RAWDATA_LINE_IN_FRAME = 128\n",
    "RAWDATA_SAMPLE_IN_LINE = 512\n",
    "# Dataset for this exercise\n",
    "DataSetName = \"20170404-potatoes\"\n",
    "FrameRate = 12"
   ]
  },
  {
   "cell_type": "markdown",
   "metadata": {},
   "source": [
    "## Let's load the images and video"
   ]
  },
  {
   "cell_type": "code",
   "execution_count": 15,
   "metadata": {
    "collapsed": false
   },
   "outputs": [
    {
     "name": "stdout",
     "output_type": "stream",
     "text": [
      "(128, 525)\n"
     ]
    }
   ],
   "source": [
    "Patates = CreateUSData(DataSetName,RAWDATA_LINE_IN_FRAME,RAWDATA_SAMPLE_IN_LINE+(525-512))\n",
    "print((Patates[1][0].shape))"
   ]
  },
  {
   "cell_type": "code",
   "execution_count": 37,
   "metadata": {
    "collapsed": false
   },
   "outputs": [],
   "source": [
    "def write_dicom(pixel_array,filename):\n",
    "    \"\"\"\n",
    "    INPUTS:\n",
    "    pixel_array: 2D numpy ndarray.  If pixel_array is larger than 2D, errors.\n",
    "    filename: string name for the output file.\n",
    "    \"\"\"\n",
    "\n",
    "    ## This code block was taken from the output of a MATLAB secondary\n",
    "    ## capture.\n",
    "    file_meta = Dataset()\n",
    "    file_meta.MediaStorageSOPClassUID = 'Ultrasound Image Storage'\n",
    "    file_meta.MediaStorageSOPInstanceUID = '1.2.840.10008.5.1.4.1.1.6.1' # Ultrasound\n",
    "    file_meta.ImplementationClassUID = '1.3.6.1.4.1.9590.100.1.0.100.4.0'\n",
    "    ds = FileDataset(filename, {},file_meta = file_meta,preamble=\"\\0\"*128)\n",
    "    ds.Modality = 'WSD' # Workstation\n",
    "    ds.ContentDate = str(datetime.date.today()).replace('-','')\n",
    "    ds.ContentTime = str(time.time()) #milliseconds since the epoch\n",
    "    #ds.StudyInstanceUID =  '1.3.6.1.4.1.9590.100.1.1.124313977412360175234271287472804872093'\n",
    "    #ds.SeriesInstanceUID = '1.3.6.1.4.1.9590.100.1.1.369231118011061003403421859172643143649'\n",
    "    #ds.SOPInstanceUID =    '1.3.6.1.4.1.9590.100.1.1.111165684411017669021768385720736873780'\n",
    "    ds.SOPClassUID = 'Ultrasound Image Storage'\n",
    "    ds.SecondaryCaptureDeviceManufctur = 'Kina - Python 2 - http://github.com/kelu124/kina/'\n",
    "    ## These are the necessary imaging components of the FileDataset object.\n",
    "    ds.SamplesPerPixel = 1\n",
    "    ds.PhotometricInterpretation = \"MONOCHROME2\"\n",
    "    ds.PixelRepresentation = 0\n",
    "    ds.HighBit = 15\n",
    "    ds.BitsStored = 16\n",
    "    ds.BitsAllocated = 16\n",
    "    ds.SmallestImagePixelValue = '\\\\x00\\\\x00'\n",
    "    ds.LargestImagePixelValue = '\\\\xff\\\\xff'\n",
    "    # Creating the image itself\n",
    "    pixel_array = np.array(np.transpose(pixel_array))\n",
    "    ds.Columns = pixel_array.shape[1]\n",
    "    ds.Rows = pixel_array.shape[0]\n",
    "    if pixel_array.dtype != np.uint16:\n",
    "        pixel_array = pixel_array.astype(np.uint16)\n",
    "    ds.PixelData = pixel_array.tostring()\n",
    "    ds.save_as(filename)\n",
    "    return filename"
   ]
  },
  {
   "cell_type": "markdown",
   "metadata": {},
   "source": [
    "## Testing the code"
   ]
  },
  {
   "cell_type": "code",
   "execution_count": 39,
   "metadata": {
    "collapsed": false
   },
   "outputs": [
    {
     "data": {
      "text/plain": [
       "'images/20170404-potatoes.dcm'"
      ]
     },
     "execution_count": 39,
     "metadata": {},
     "output_type": "execute_result"
    }
   ],
   "source": [
    "write_dicom(Patates[1][0],\"images/\"+DataSetName+\".dcm\")"
   ]
  },
  {
   "cell_type": "code",
   "execution_count": null,
   "metadata": {
    "collapsed": true
   },
   "outputs": [],
   "source": []
  }
 ],
 "metadata": {
  "kernelspec": {
   "display_name": "Python 2",
   "language": "python",
   "name": "python2"
  },
  "language_info": {
   "codemirror_mode": {
    "name": "ipython",
    "version": 2
   },
   "file_extension": ".py",
   "mimetype": "text/x-python",
   "name": "python",
   "nbconvert_exporter": "python",
   "pygments_lexer": "ipython2",
   "version": "2.7.12"
  }
 },
 "nbformat": 4,
 "nbformat_minor": 2
}
